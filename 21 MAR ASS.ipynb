{
 "cells": [
  {
   "cell_type": "markdown",
   "id": "b1d0357e-9803-4e07-ae61-25c40bd0ee20",
   "metadata": {},
   "source": [
    "#QNO.1 ANS\n",
    " Ordinal Encoding and Label Encoding are both techniques used to encode categorical variables into numerical values, but there is a difference between them.\n",
    "\n",
    "Label Encoding, also known as nominal encoding, assigns a unique numerical value to each category in a categorical variable without considering any order or hierarchy between the categories. For example, \"red\" might be encoded as 0, \"green\" as 1, and \"blue\" as 2. This encoding is suitable for variables where there is no inherent order or ranking among the categories.\n",
    "\n",
    "Ordinal Encoding, on the other hand, assigns numerical values to categories based on their relative order or ranking. Each category is assigned a value that represents its position in the order. For example, \"small\" might be encoded as 0, \"medium\" as 1, and \"large\" as 2. This encoding is appropriate when there is a meaningful order or ranking among the categories.\n",
    "\n",
    "The choice between ordinal encoding and label encoding depends on the nature of the categorical variable and the relationship between its categories. If there is a clear order or ranking among the categories, ordinal encoding should be used. If the categories are unordered or the order is not meaningful, label encoding can be applied."
   ]
  },
  {
   "cell_type": "markdown",
   "id": "5e02546b-34b1-4880-b1ac-48911aafd5bf",
   "metadata": {},
   "source": [
    "#QNO.2 ANS\n",
    " Target Guided Ordinal Encoding is a technique where the categories of a categorical variable are encoded with values based on the target variable's mean or median value for each category. It can be useful when there is a significant relationship between the categorical variable and the target variable.\n",
    "\n",
    "For example, let's say you are working on a credit risk prediction project, and one of the categorical variables is \"Education Level\" with categories \"High School,\" \"Bachelor's,\" \"Master's,\" and \"PhD.\" You observe that the default rate increases with the level of education, with PhD holders having the lowest default rate. In this case, you can apply Target Guided Ordinal Encoding to assign higher values to categories with lower default rates and lower values to categories with higher default rates. This way, the encoded variable captures the relationship between education level and default risk."
   ]
  },
  {
   "cell_type": "markdown",
   "id": "f753977b-fdb7-4098-9420-0be5d882bf47",
   "metadata": {},
   "source": [
    "#QNO.3 ANS\n",
    " Covariance measures the relationship between two variables and indicates how changes in one variable correspond to changes in another variable. It is important in statistical analysis because it helps in understanding the direction and strength of the linear relationship between variables.\n",
    "\n",
    "Covariance is calculated using the following formula:\n",
    "Cov(X, Y) = Σ[(X - μX)(Y - μY)] / (n - 1)\n",
    "\n",
    "Where X and Y are the variables, μX and μY are the means of X and Y, and n is the number of observations.\n",
    "\n",
    "The resulting covariance value can be positive, indicating a positive relationship (both variables increase or decrease together), negative, indicating a negative relationship (one variable increases while the other decreases), or zero, indicating no linear relationship."
   ]
  },
  {
   "cell_type": "code",
   "execution_count": 4,
   "id": "daf2c06f-f464-481b-9605-4b8fd54c117f",
   "metadata": {},
   "outputs": [
    {
     "name": "stdout",
     "output_type": "stream",
     "text": [
      "[['2' '2' '2']\n",
      " ['0' '1' '1']\n",
      " ['1' '0' '0']\n",
      " ['2' '1' '1']]\n"
     ]
    }
   ],
   "source": [
    "#QNO.4 ANS\n",
    "from sklearn.preprocessing import LabelEncoder\n",
    "import numpy as np\n",
    "\n",
    "data = np.array([['red', 'small', 'wood'],\n",
    "                ['blue', 'medium', 'plastic'],\n",
    "                ['green', 'large', 'metal'],\n",
    "                ['red', 'medium', 'plastic']])\n",
    "\n",
    "\n",
    "label_encoder = LabelEncoder()\n",
    "\n",
    "# Apply label encoding to each column\n",
    "for column in range(data.shape[1]):\n",
    "    data[:, column] = label_encoder.fit_transform(data[:, column])\n",
    "\n",
    "# Print the encoded data\n",
    "print(data)\n"
   ]
  },
  {
   "cell_type": "markdown",
   "id": "2d88e762-a5c9-4e28-bb2a-b7567f6dab12",
   "metadata": {},
   "source": [
    "#QNO.5 ANS"
   ]
  },
  {
   "cell_type": "code",
   "execution_count": 6,
   "id": "34be670f-14be-4d58-997e-5fa2db5281a3",
   "metadata": {},
   "outputs": [
    {
     "name": "stdout",
     "output_type": "stream",
     "text": [
      "[['2' '2' '2']\n",
      " ['0' '1' '1']\n",
      " ['1' '0' '0']\n",
      " ['2' '1' '1']]\n"
     ]
    }
   ],
   "source": [
    "from sklearn.preprocessing import LabelEncoder\n",
    "import numpy as np\n",
    "\n",
    "data = np.array([['red', 'small', 'wood'],\n",
    "                ['blue', 'medium', 'plastic'],\n",
    "                ['green', 'large', 'metal'],\n",
    "                ['red', 'medium', 'plastic']])\n",
    "\n",
    "# Initialize LabelEncoder\n",
    "label_encoder = LabelEncoder()\n",
    "\n",
    "# Apply label encoding to each column\n",
    "for column in range(data.shape[1]):\n",
    "    data[:, column] = label_encoder.fit_transform(data[:, column])\n",
    "\n",
    "# Print the encoded data\n",
    "print(data)\n"
   ]
  },
  {
   "cell_type": "markdown",
   "id": "0aa334e6-eade-4e5e-a380-bb3192c9c9af",
   "metadata": {},
   "source": [
    "#QNO.6 ANS\n",
    " For the categorical variables \"Gender,\" \"Education Level,\" and \"Employment Status,\" the choice of encoding method depends on the nature of the variables and the machine learning algorithm you intend to use. Here are some suggestions:\n",
    "\n",
    "Gender: Since \"Gender\" has only two categories (\"Male\" and \"Female\"), you can use nominal encoding or label encoding. Assigning 0 for \"Male\" and 1 for \"Female\" using label encoding would be a simple approach.\n",
    "\n",
    "Education Level: This variable has multiple categories with no inherent order. One-hot encoding would be suitable here. Each category (e.g., \"High School,\" \"Bachelor's,\" \"Master's,\" \"PhD\") would be represented by a separate binary feature.\n",
    "\n",
    "Employment Status: Similar to \"Education Level,\" one-hot encoding would be appropriate for \"Employment Status\" since there is no ordinal relationship between the categories (\"Unemployed,\" \"Part-Time,\" \"Full-Time\"). Each category would be represented by a separate binary feature."
   ]
  },
  {
   "cell_type": "code",
   "execution_count": 9,
   "id": "1a4a7ee5-e8d9-4e9c-98e6-ea7342478b17",
   "metadata": {},
   "outputs": [
    {
     "name": "stdout",
     "output_type": "stream",
     "text": [
      "[[ 3.56666667  6.66666667]\n",
      " [ 6.66666667 41.66666667]]\n"
     ]
    }
   ],
   "source": [
    "#QNO.7 ANS\n",
    "import numpy as np\n",
    "\n",
    "# Assuming you have a dataset with variables: Temperature, Humidity, Weather Condition, and Wind Direction\n",
    "dataset = np.array([[25.5, 60, 'Sunny', 'North'],\n",
    "                    [28.2, 55, 'Cloudy', 'South'],\n",
    "                    [30.1, 70, 'Rainy', 'East'],\n",
    "                    [27.8, 65, 'Cloudy', 'West']])\n",
    "\n",
    "# Calculate the covariance matrix\n",
    "covariance_matrix = np.cov(dataset[:, :2].astype(float), rowvar=False)\n",
    "\n",
    "# Print the covariance matrix\n",
    "print(covariance_matrix)\n"
   ]
  },
  {
   "cell_type": "code",
   "execution_count": null,
   "id": "c90badaf-0eeb-4c99-b4f0-9c7230016060",
   "metadata": {},
   "outputs": [],
   "source": []
  }
 ],
 "metadata": {
  "kernelspec": {
   "display_name": "Python 3 (ipykernel)",
   "language": "python",
   "name": "python3"
  },
  "language_info": {
   "codemirror_mode": {
    "name": "ipython",
    "version": 3
   },
   "file_extension": ".py",
   "mimetype": "text/x-python",
   "name": "python",
   "nbconvert_exporter": "python",
   "pygments_lexer": "ipython3",
   "version": "3.10.9"
  }
 },
 "nbformat": 4,
 "nbformat_minor": 5
}
